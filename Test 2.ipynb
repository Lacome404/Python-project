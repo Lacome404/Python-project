{
 "cells": [
  {
   "cell_type": "code",
   "execution_count": 40,
   "id": "c77ebcd8",
   "metadata": {},
   "outputs": [
    {
     "data": {
      "image/png": "[encoded data removed]",
      "text/plain": [
       "<Figure size 640x480 with 1 Axes>"
      ]
     },
     "metadata": {},
     "output_type": "display_data"
    }
   ],
   "source": [
    "import scipy as sc\n",
    "import numpy as np\n",
    "import matplotlib.pyplot as plt\n",
    "from scipy.integrate import odeint\n",
    "\n",
    "def dydt(t,y):\n",
    "    return ((t-y)/2)\n",
    "    \n",
    "def ode(t,y):\n",
    "    for t in range(1,3):\n",
    "        \n",
    "        return y\n",
    "\n",
    "x = 1\n",
    "y = 0\n",
    "\n",
    "start = 0\n",
    "end = 2\n",
    "t = np.linspace(start, end, end)\n",
    "yinitial = np.linspace(y0, y0, end)\n",
    "\n",
    "# integration of the differential equation\n",
    "y = sc.integrate.odeint(dydt, y, t)\n",
    "\n",
    "plt.plot(t,y, color = 'red')\n",
    "plt.xlabel('t')\n",
    "plt.ylabel('y')\n",
    "plt.show()\n"
   ]
  },
  {
   "cell_type": "code",
   "execution_count": 8,
   "id": "a0bfd715",
   "metadata": {},
   "outputs": [
    {
     "name": "stdout",
     "output_type": "stream",
     "text": [
      "[[ 4.5]\n",
      " [-7.5]\n",
      " [ 6.5]]\n"
     ]
    }
   ],
   "source": [
    "#Questions 2\n",
    "\n",
    "import numpy as np\n",
    "import scipy as sc\n",
    "\n",
    "A = np.array([[2,4,6],[5,3,2],[7,8,9]])\n",
    "\n",
    "\n",
    "b = np.array([[18],[13],[30]])\n",
    "\n",
    "\n",
    "C = sc.linalg.solve(A,b)\n",
    "print(C)"
   ]
  },
  {
   "cell_type": "code",
   "execution_count": null,
   "id": "81c565f3",
   "metadata": {},
   "outputs": [
    {
     "name": "stdout",
     "output_type": "stream",
     "text": [
      "{'latitude': 2.375, 'longitude': 112.5, 'generationtime_ms': 0.024080276489257812, 'utc_offset_seconds': 28800, 'timezone': 'Asia/Singapore', 'timezone_abbreviation': '+08', 'elevation': 272.0, 'hourly_units': {'time': 'iso8601', 'temperature_2m': '°C'}, 'hourly': {'time': ['2024-01-11T00:00', '2024-01-11T01:00', '2024-01-11T02:00', '2024-01-11T03:00', '2024-01-11T04:00', '2024-01-11T05:00', '2024-01-11T06:00', '2024-01-11T07:00', '2024-01-11T08:00', '2024-01-11T09:00', '2024-01-11T10:00', '2024-01-11T11:00', '2024-01-11T12:00', '2024-01-11T13:00', '2024-01-11T14:00', '2024-01-11T15:00', '2024-01-11T16:00', '2024-01-11T17:00', '2024-01-11T18:00', '2024-01-11T19:00', '2024-01-11T20:00', '2024-01-11T21:00', '2024-01-11T22:00', '2024-01-11T23:00'], 'temperature_2m': [23.8, 23.5, 23.3, 23.2, 23.1, 23.1, 23.0, 23.0, 24.0, 25.5, 26.6, 27.4, 28.0, 28.1, 28.1, 28.0, 27.6, 26.7, 25.9, 25.2, 24.9, 24.6, 24.3, 24.1]}}\n"
     ]
    }
   ],
   "source": [
    "#Questions 3\n",
    "\n",
    "import requests\n",
    "api_url = \"https://api.open-meteo.com/v1/forecast?latitude=2.5&longitude=112.5&hourly=temperature_2m&timezone=Asia%2FSingapore&forecast_days=1\"\n",
    "response = requests.get(api_url)\n",
    "forecast_data = response.json()\n",
    "\n",
    "print(forecast_data)\n",
    "\n",
    "def days():\n",
    "    while True:\n",
    "        days_data = input(\"Enter the day: \")\n",
    "        temperature_2m = temperature_2m.get(days_data)\n",
    "        \n",
    "    if temperature is not None:\n",
    "        print(f\"Temperature {days_data}:{temperature_2m}\")\n",
    "    \n",
    "        \n",
    "    else:\n",
    "        print(f\"{days_data} is not found. Please try again.\")\n",
    "        \n",
    "       \n",
    "\n",
    "days()\n",
    "\n",
    "plt.plot(x,y, color = 'red')\n",
    "plt.xlabel('days')\n",
    "plt.ylabel('temperature')\n",
    "plt.title('Weather Forecast')\n",
    "plt.grid(True)\n",
    "plt.show()\n",
    "\n"
   ]
  },
  {
   "cell_type": "code",
   "execution_count": null,
   "id": "9c4e21fd",
   "metadata": {},
   "outputs": [],
   "source": [
    "plt.plot(x,y1, color = 'red')\n",
    "plt.title('Weather Forecast')\n",
    "plt.grid(True)\n",
    "plt.show()\n",
    "\n",
    "input('days':)\n"
   ]
  }
 ],
 "metadata": {
  "kernelspec": {
   "display_name": "Python 3 (ipykernel)",
   "language": "python",
   "name": "python3"
  },
  "language_info": {
   "codemirror_mode": {
    "name": "ipython",
    "version": 3
   },
   "file_extension": ".py",
   "mimetype": "text/x-python",
   "name": "python",
   "nbconvert_exporter": "python",
   "pygments_lexer": "ipython3",
   "version": "3.11.5"
  }
 },
 "nbformat": 4,
 "nbformat_minor": 5
}
