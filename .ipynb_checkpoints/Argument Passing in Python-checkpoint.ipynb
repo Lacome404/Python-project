{
 "cells": [
  {
   "cell_type": "code",
   "execution_count": 8,
   "id": "3a3b7dbe",
   "metadata": {},
   "outputs": [
    {
     "name": "stdout",
     "output_type": "stream",
     "text": [
      "Alice is enrolled in Mathematics class.\n"
     ]
    }
   ],
   "source": [
    "# POSITIONAL ARGUMENTS\n",
    "\n",
    "def student_information (class_name, student_name):\n",
    "    print(student_name + \" is enrolled in \" + class_name + \" class.\")\n",
    "\n",
    "student_information('Mathematics','Alice')"
   ]
  },
  {
   "cell_type": "code",
   "execution_count": 14,
   "id": "df3ef8f7",
   "metadata": {},
   "outputs": [
    {
     "name": "stdout",
     "output_type": "stream",
     "text": [
      "Alice is enrolled in Mathematics class.\n"
     ]
    }
   ],
   "source": [
    "def student_information (class_name, student_name):\n",
    "    print(student_name + \" is enrolled in \" + class_name + \" class.\")\n",
    "    \n",
    "student_information(class_name = 'Mathematics', student_name = 'Alice')"
   ]
  },
  {
   "cell_type": "code",
   "execution_count": 28,
   "id": "f13f0e16",
   "metadata": {},
   "outputs": [],
   "source": [
    "def enroll_student(student_name, course = 'Introduction to Python'):\n",
    "#Enroll a student in a course with a default option\n",
    "    print(\"Student Name: \" + student_name)\n",
    "    print(\"Enrolled Course: \" + course)"
   ]
  },
  {
   "cell_type": "code",
   "execution_count": 21,
   "id": "ddbc8c54",
   "metadata": {},
   "outputs": [],
   "source": [
    "def enroll_in_courses(student_name, *courses):\n",
    "    print(\"Student: \" + student_name)\n",
    "    print(\"Enrolled in: \")\n",
    "    for course in courses:#use as dictionary so can code in the dict\n",
    "        print(\"-\" + course)\n",
    "    #Example of enrolling a student in three different courses:"
   ]
  },
  {
   "cell_type": "code",
   "execution_count": 22,
   "id": "93f6ba26",
   "metadata": {},
   "outputs": [
    {
     "name": "stdout",
     "output_type": "stream",
     "text": [
      "Student: Emily\n",
      "Enrolled in: \n",
      "-Biology 101\n",
      "-Chemistry\n"
     ]
    }
   ],
   "source": [
    "enroll_in_courses('Emily','Biology 101','Chemistry')"
   ]
  },
  {
   "cell_type": "code",
   "execution_count": 35,
   "id": "1f44ec02",
   "metadata": {},
   "outputs": [],
   "source": [
    "def enroll_student(student_name, **details ):\n",
    "    print(\"Enrolling\" +student_name + \"with the following details:\")\n",
    "    for detail, value in details.items():\n",
    "        print(\"-\" +detail.replace('_',' ').title() + \":\" +str(value))"
   ]
  },
  {
   "cell_type": "code",
   "execution_count": 36,
   "id": "05e4cac6",
   "metadata": {},
   "outputs": [
    {
     "name": "stdout",
     "output_type": "stream",
     "text": [
      "EnrollingSmithwith the following details:\n",
      "-Course:Algebra 11\n",
      "-Semester:One\n",
      "-Payment Method:Credit card\n"
     ]
    }
   ],
   "source": [
    "enroll_student('Smith',course='Algebra 11',semester = 'One', payment_method = 'Credit card')"
   ]
  },
  {
   "cell_type": "code",
   "execution_count": null,
   "id": "d99afa2c",
   "metadata": {},
   "outputs": [],
   "source": []
  }
 ],
 "metadata": {
  "kernelspec": {
   "display_name": "Python 3 (ipykernel)",
   "language": "python",
   "name": "python3"
  },
  "language_info": {
   "codemirror_mode": {
    "name": "ipython",
    "version": 3
   },
   "file_extension": ".py",
   "mimetype": "text/x-python",
   "name": "python",
   "nbconvert_exporter": "python",
   "pygments_lexer": "ipython3",
   "version": "3.11.5"
  }
 },
 "nbformat": 4,
 "nbformat_minor": 5
}
