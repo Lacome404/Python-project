{
 "cells": [
  {
   "cell_type": "code",
   "execution_count": 28,
   "id": "af126567",
   "metadata": {
    "scrolled": true
   },
   "outputs": [
    {
     "ename": "NameError",
     "evalue": "name 'GCEOSMIX' is not defined",
     "output_type": "error",
     "traceback": [
      "\u001b[1;31m---------------------------------------------------------------------------\u001b[0m",
      "\u001b[1;31mNameError\u001b[0m                                 Traceback (most recent call last)",
      "Cell \u001b[1;32mIn[28], line 1\u001b[0m\n\u001b[1;32m----> 1\u001b[0m \u001b[38;5;28;01mclass\u001b[39;00m \u001b[38;5;21;01mPRMIX\u001b[39;00m(GCEOSMIX, PR):\n\u001b[0;32m      2\u001b[0m     \u001b[38;5;28;01mdef\u001b[39;00m \u001b[38;5;21m__init__\u001b[39m(\u001b[38;5;28mself\u001b[39m, Tcs, Pcs, omegas, zs, kijs\u001b[38;5;241m=\u001b[39m\u001b[38;5;28;01mNone\u001b[39;00m, T\u001b[38;5;241m=\u001b[39m\u001b[38;5;28;01mNone\u001b[39;00m, P\u001b[38;5;241m=\u001b[39m\u001b[38;5;28;01mNone\u001b[39;00m, V\u001b[38;5;241m=\u001b[39m\u001b[38;5;28;01mNone\u001b[39;00m, fugacities\u001b[38;5;241m=\u001b[39m\u001b[38;5;28;01mTrue\u001b[39;00m, only_l\u001b[38;5;241m=\u001b[39m\u001b[38;5;28;01mFalse\u001b[39;00m, only_g\u001b[38;5;241m=\u001b[39m\u001b[38;5;28;01mFalse\u001b[39;00m):\n\u001b[0;32m      3\u001b[0m         \u001b[38;5;66;03m# Your initialization code here\u001b[39;00m\n\u001b[0;32m      4\u001b[0m         \u001b[38;5;28;01mpass\u001b[39;00m\n",
      "\u001b[1;31mNameError\u001b[0m: name 'GCEOSMIX' is not defined"
     ]
    }
   ],
   "source": [
    "class PRMIX(GCEOSMIX, PR):\n",
    "    def __init__(self, Tcs, Pcs, omegas, zs, kijs=None, T=None, P=None, V=None, fugacities=True, only_l=False, only_g=False):\n",
    "        # Your initialization code here\n",
    "        pass\n",
    "\n",
    "# Example usage\n",
    "eos = PRMIX(Tcs=[126.1, 190.6], Pcs=[33.94E5, 46.04E5], omegas=[0.04, 0.011], zs=[0.5, 0.5], kijs=[[0, 0], [0, 0]], T=115, P=1E6)\n",
    "eos.calculate()  # Assuming you have a calculate method in your PRMIX class\n",
    "print(\"Liquid phase volume:\", eos.V_l)\n",
    "print(\"Gas phase volume:\", eos.V_g)\n",
    "print(\"Fugacities in liquid phase:\", eos.fugacities_l)\n",
    "print(\"Fugacities in gas phase:\", eos.fugacities_g)"
   ]
  },
  {
   "cell_type": "code",
   "execution_count": 17,
   "id": "124551af",
   "metadata": {},
   "outputs": [
    {
     "ename": "NameError",
     "evalue": "name 'result_for_V_l' is not defined",
     "output_type": "error",
     "traceback": [
      "\u001b[1;31m---------------------------------------------------------------------------\u001b[0m",
      "\u001b[1;31mNameError\u001b[0m                                 Traceback (most recent call last)",
      "Cell \u001b[1;32mIn[17], line 34\u001b[0m\n\u001b[0;32m     32\u001b[0m eos \u001b[38;5;241m=\u001b[39m PengRobinsonEOS(Tcs\u001b[38;5;241m=\u001b[39m[\u001b[38;5;241m126.1\u001b[39m, \u001b[38;5;241m190.6\u001b[39m], Pcs\u001b[38;5;241m=\u001b[39m[\u001b[38;5;241m33.94E5\u001b[39m, \u001b[38;5;241m46.04E5\u001b[39m], omegas\u001b[38;5;241m=\u001b[39m[\u001b[38;5;241m0.04\u001b[39m, \u001b[38;5;241m0.011\u001b[39m], zs\u001b[38;5;241m=\u001b[39m[\u001b[38;5;241m0.5\u001b[39m, \u001b[38;5;241m0.5\u001b[39m], kijs\u001b[38;5;241m=\u001b[39m[[\u001b[38;5;241m0\u001b[39m, \u001b[38;5;241m0\u001b[39m], [\u001b[38;5;241m0\u001b[39m, \u001b[38;5;241m0\u001b[39m]], T\u001b[38;5;241m=\u001b[39m\u001b[38;5;241m115\u001b[39m, P\u001b[38;5;241m=\u001b[39m\u001b[38;5;241m1E6\u001b[39m)\n\u001b[0;32m     33\u001b[0m eos\u001b[38;5;241m.\u001b[39mcalculate()\n\u001b[1;32m---> 34\u001b[0m \u001b[38;5;28mprint\u001b[39m(\u001b[38;5;124m\"\u001b[39m\u001b[38;5;124mLiquid phase volume:\u001b[39m\u001b[38;5;124m\"\u001b[39m, eos\u001b[38;5;241m.\u001b[39mV_l)\n\u001b[0;32m     35\u001b[0m \u001b[38;5;28mprint\u001b[39m(\u001b[38;5;124m\"\u001b[39m\u001b[38;5;124mGas phase volume:\u001b[39m\u001b[38;5;124m\"\u001b[39m, eos\u001b[38;5;241m.\u001b[39mV_g)\n\u001b[0;32m     36\u001b[0m \u001b[38;5;28mprint\u001b[39m(\u001b[38;5;124m\"\u001b[39m\u001b[38;5;124mFugacities in liquid phase:\u001b[39m\u001b[38;5;124m\"\u001b[39m, eos\u001b[38;5;241m.\u001b[39mfugacities_l)\n",
      "Cell \u001b[1;32mIn[17], line 14\u001b[0m, in \u001b[0;36mPengRobinsonEOS.V_l\u001b[1;34m(self)\u001b[0m\n\u001b[0;32m     11\u001b[0m \u001b[38;5;129m@property\u001b[39m\n\u001b[0;32m     12\u001b[0m \u001b[38;5;28;01mdef\u001b[39;00m \u001b[38;5;21mV_l\u001b[39m(\u001b[38;5;28mself\u001b[39m):\n\u001b[0;32m     13\u001b[0m     \u001b[38;5;66;03m# Your logic to calculate liquid phase volume\u001b[39;00m\n\u001b[1;32m---> 14\u001b[0m     \u001b[38;5;28;01mreturn\u001b[39;00m result_for_V_l\n",
      "\u001b[1;31mNameError\u001b[0m: name 'result_for_V_l' is not defined"
     ]
    }
   ],
   "source": [
    "class PengRobinsonEOS:\n",
    "    def __init__(self, Tcs, Pcs, omegas, zs, kijs=None, T=None, P=None, V=None, fugacities=True, only_l=False, only_g=False):\n",
    "        # Your initialization code here\n",
    "        pass\n",
    "\n",
    "    def calculate(self):\n",
    "        # Your Peng-Robinson calculation logic here\n",
    "        # This could involve calculating volumes, fugacities, etc.\n",
    "        pass\n",
    "\n",
    "    @property\n",
    "    def V_l(self):\n",
    "        # Your logic to calculate liquid phase volume\n",
    "        return result_for_V_l\n",
    "\n",
    "    @property\n",
    "    def V_g(self):\n",
    "        # Your logic to calculate gas phase volume\n",
    "        return result_for_V_g\n",
    "\n",
    "    @property\n",
    "    def fugacities_l(self):\n",
    "        # Your logic to calculate fugacities for the liquid phase\n",
    "        return result_for_fugacities_l\n",
    "\n",
    "    @property\n",
    "    def fugacities_g(self):\n",
    "        # Your logic to calculate fugacities for the gas phase\n",
    "        return result_for_fugacities_g\n",
    "\n",
    "# Example usage\n",
    "eos = PengRobinsonEOS(Tcs=[126.1, 190.6], Pcs=[33.94E5, 46.04E5], omegas=[0.04, 0.011], zs=[0.5, 0.5], kijs=[[0, 0], [0, 0]], T=115, P=1E6)\n",
    "eos.calculate()\n",
    "print(\"Liquid phase volume:\", eos.V_l)\n",
    "print(\"Gas phase volume:\", eos.V_g)\n",
    "print(\"Fugacities in liquid phase:\", eos.fugacities_l)\n",
    "print(\"Fugacities in gas phase:\", eos.fugacities_g)"
   ]
  },
  {
   "cell_type": "code",
   "execution_count": 27,
   "id": "39bbb36b",
   "metadata": {},
   "outputs": [
    {
     "ename": "NameError",
     "evalue": "name 'PR' is not defined",
     "output_type": "error",
     "traceback": [
      "\u001b[1;31m---------------------------------------------------------------------------\u001b[0m",
      "\u001b[1;31mNameError\u001b[0m                                 Traceback (most recent call last)",
      "Cell \u001b[1;32mIn[27], line 1\u001b[0m\n\u001b[1;32m----> 1\u001b[0m eos_pure \u001b[38;5;241m=\u001b[39m PR\n\u001b[0;32m      3\u001b[0m nonstate_constants_specific \u001b[38;5;241m=\u001b[39m (\u001b[38;5;124m'\u001b[39m\u001b[38;5;124mkappas\u001b[39m\u001b[38;5;124m'\u001b[39m, )\n\u001b[0;32m      4\u001b[0m kwargs_keys \u001b[38;5;241m=\u001b[39m (\u001b[38;5;124m'\u001b[39m\u001b[38;5;124mkijs\u001b[39m\u001b[38;5;124m'\u001b[39m,)\n",
      "\u001b[1;31mNameError\u001b[0m: name 'PR' is not defined"
     ]
    }
   ],
   "source": [
    "eos_pure = PR\n",
    "\n",
    "nonstate_constants_specific = ('kappas', )\n",
    "kwargs_keys = ('kijs',)\n",
    "model_id = 10200\n",
    "\n",
    "\n",
    "eos_slots = ('V_l', 'Z_l', 'PIP_l', 'dP_dT_l', 'dP_dV_l', 'dV_dT_l', 'dV_dP_l', 'dT_dV_l', 'dT_dP_l',\n",
    "    'd2P_dT2_l', 'd2P_dV2_l', 'd2P_dTdV_l', 'H_dep_l', 'S_dep_l', 'G_dep_l', 'Cp_dep_l', 'Cv_dep_l',\n",
    "    'T', 'P', 'V', 'b', 'delta', 'epsilon', 'a_alpha', 'da_alpha_dT', 'd2a_alpha_dT2', 'raw_volumes',\n",
    "      'V_g', 'Z_g', 'PIP_g', 'dP_dT_g', 'dP_dV_g', 'dV_dT_g', 'dV_dP_g', 'dT_dV_g', 'dT_dP_g',\n",
    "       'd2P_dT2_g', 'd2P_dV2_g', 'd2P_dTdV_g', 'H_dep_g', 'S_dep_g', 'G_dep_g', 'Cp_dep_g', 'Cv_dep_g', 'phase', 'kwargs',)\n",
    "\n",
    "eos_mix_slots = ('lnphis_l', 'phis_l', 'fugacities_l', 'N', 'Tcs', 'Pcs', 'omegas', 'zs', 'scalar', 'kijs', 'one_minus_kijs', 'bs',\n",
    "     'bs', 'ais', 'a_alphas', 'da_alpha_dTs', 'd2a_alpha_dT2s', 'a_alpha_roots', 'a_alpha_j_rows', 'da_alpha_dT_j_rows',\n",
    "   'lnphis_g', 'phis_g', 'fugacities_g')\n",
    "\n",
    "__slots__ = ('kappas',) + eos_slots + eos_mix_slots\n",
    "\n",
    "def __init__(self, Tcs, Pcs, omegas, zs, kijs=None, T=None, P=None, V=None,\n",
    "                 fugacities=True, only_l=False, only_g=False):\n",
    "        self.N = N = len(Tcs)\n",
    "        cmps = range(N)\n",
    "        self.Tcs = Tcs\n",
    "        self.Pcs = Pcs\n",
    "        self.omegas = omegas\n",
    "        self.zs = zs\n",
    "        self.scalar = scalar = type(zs) is list\n",
    "        if kijs is None:\n",
    "            if scalar:\n",
    "                kijs = [[0.0]*N for i in cmps]\n",
    "            else:\n",
    "                kijs = zeros((N, N))\n",
    "        self.kijs = kijs\n",
    "        self.one_minus_kijs = one_minus_kijs(kijs)\n",
    "        self.kwargs = {'kijs': kijs}\n",
    "        self.T = T\n",
    "        self.P = P\n",
    "        self.V = V"
   ]
  },
  {
   "cell_type": "code",
   "execution_count": 30,
   "id": "9ec1813d",
   "metadata": {},
   "outputs": [
    {
     "ename": "NameError",
     "evalue": "name 'ethanol_psat' is not defined",
     "output_type": "error",
     "traceback": [
      "\u001b[1;31m---------------------------------------------------------------------------\u001b[0m",
      "\u001b[1;31mNameError\u001b[0m                                 Traceback (most recent call last)",
      "Cell \u001b[1;32mIn[30], line 1\u001b[0m\n\u001b[1;32m----> 1\u001b[0m ethanol_psat(\u001b[38;5;241m300.0\u001b[39m)\n",
      "\u001b[1;31mNameError\u001b[0m: name 'ethanol_psat' is not defined"
     ]
    }
   ],
   "source": [
    "ethanol_psat(300.0)\n"
   ]
  },
  {
   "cell_type": "code",
   "execution_count": 34,
   "id": "41adef33",
   "metadata": {},
   "outputs": [
    {
     "ename": "NameError",
     "evalue": "name 'GCEOSMIX' is not defined",
     "output_type": "error",
     "traceback": [
      "\u001b[1;31m---------------------------------------------------------------------------\u001b[0m",
      "\u001b[1;31mNameError\u001b[0m                                 Traceback (most recent call last)",
      "Cell \u001b[1;32mIn[34], line 1\u001b[0m\n\u001b[1;32m----> 1\u001b[0m \u001b[38;5;28;01mclass\u001b[39;00m \u001b[38;5;21;01mGCEOSMIX\u001b[39;00m:\n\u001b[0;32m      2\u001b[0m     \u001b[38;5;66;03m# Define the GCEOSMIX class here\u001b[39;00m\n\u001b[0;32m      4\u001b[0m     \u001b[38;5;28;01mclass\u001b[39;00m \u001b[38;5;21;01mPR\u001b[39;00m:\n\u001b[0;32m      5\u001b[0m     \u001b[38;5;66;03m# Define the PR class here\u001b[39;00m\n\u001b[0;32m      7\u001b[0m         \u001b[38;5;28;01mclass\u001b[39;00m \u001b[38;5;21;01mPRMIX\u001b[39;00m(GCEOSMIX, PR):\n",
      "Cell \u001b[1;32mIn[34], line 4\u001b[0m, in \u001b[0;36mGCEOSMIX\u001b[1;34m()\u001b[0m\n\u001b[0;32m      1\u001b[0m \u001b[38;5;28;01mclass\u001b[39;00m \u001b[38;5;21;01mGCEOSMIX\u001b[39;00m:\n\u001b[0;32m      2\u001b[0m     \u001b[38;5;66;03m# Define the GCEOSMIX class here\u001b[39;00m\n\u001b[1;32m----> 4\u001b[0m     \u001b[38;5;28;01mclass\u001b[39;00m \u001b[38;5;21;01mPR\u001b[39;00m:\n\u001b[0;32m      5\u001b[0m     \u001b[38;5;66;03m# Define the PR class here\u001b[39;00m\n\u001b[0;32m      7\u001b[0m         \u001b[38;5;28;01mclass\u001b[39;00m \u001b[38;5;21;01mPRMIX\u001b[39;00m(GCEOSMIX, PR):\n\u001b[0;32m      8\u001b[0m             \u001b[38;5;28;01mdef\u001b[39;00m \u001b[38;5;21m__init__\u001b[39m(\u001b[38;5;28mself\u001b[39m, Tcs, Pcs, omegas, zs, kijs\u001b[38;5;241m=\u001b[39m\u001b[38;5;28;01mNone\u001b[39;00m, T\u001b[38;5;241m=\u001b[39m\u001b[38;5;28;01mNone\u001b[39;00m, P\u001b[38;5;241m=\u001b[39m\u001b[38;5;28;01mNone\u001b[39;00m, V\u001b[38;5;241m=\u001b[39m\u001b[38;5;28;01mNone\u001b[39;00m, fugacities\u001b[38;5;241m=\u001b[39m\u001b[38;5;28;01mTrue\u001b[39;00m, only_l\u001b[38;5;241m=\u001b[39m\u001b[38;5;28;01mFalse\u001b[39;00m, only_g\u001b[38;5;241m=\u001b[39m\u001b[38;5;28;01mFalse\u001b[39;00m):\n\u001b[0;32m      9\u001b[0m         \u001b[38;5;66;03m# Your initialization code here\u001b[39;00m\n",
      "Cell \u001b[1;32mIn[34], line 7\u001b[0m, in \u001b[0;36mGCEOSMIX.PR\u001b[1;34m()\u001b[0m\n\u001b[0;32m      4\u001b[0m \u001b[38;5;28;01mclass\u001b[39;00m \u001b[38;5;21;01mPR\u001b[39;00m:\n\u001b[0;32m      5\u001b[0m \u001b[38;5;66;03m# Define the PR class here\u001b[39;00m\n\u001b[1;32m----> 7\u001b[0m     \u001b[38;5;28;01mclass\u001b[39;00m \u001b[38;5;21;01mPRMIX\u001b[39;00m(GCEOSMIX, PR):\n\u001b[0;32m      8\u001b[0m         \u001b[38;5;28;01mdef\u001b[39;00m \u001b[38;5;21m__init__\u001b[39m(\u001b[38;5;28mself\u001b[39m, Tcs, Pcs, omegas, zs, kijs\u001b[38;5;241m=\u001b[39m\u001b[38;5;28;01mNone\u001b[39;00m, T\u001b[38;5;241m=\u001b[39m\u001b[38;5;28;01mNone\u001b[39;00m, P\u001b[38;5;241m=\u001b[39m\u001b[38;5;28;01mNone\u001b[39;00m, V\u001b[38;5;241m=\u001b[39m\u001b[38;5;28;01mNone\u001b[39;00m, fugacities\u001b[38;5;241m=\u001b[39m\u001b[38;5;28;01mTrue\u001b[39;00m, only_l\u001b[38;5;241m=\u001b[39m\u001b[38;5;28;01mFalse\u001b[39;00m, only_g\u001b[38;5;241m=\u001b[39m\u001b[38;5;28;01mFalse\u001b[39;00m):\n\u001b[0;32m      9\u001b[0m     \u001b[38;5;66;03m# Your initialization code here\u001b[39;00m\n\u001b[0;32m     10\u001b[0m             \u001b[38;5;28;01mpass\u001b[39;00m\n",
      "\u001b[1;31mNameError\u001b[0m: name 'GCEOSMIX' is not defined"
     ]
    }
   ],
   "source": [
    "class GCEOSMIX:\n",
    "    # Define the GCEOSMIX class here\n",
    "\n",
    "    class PR:\n",
    "    # Define the PR class here\n",
    "\n",
    "        class PRMIX(GCEOSMIX, PR):\n",
    "            def __init__(self, Tcs, Pcs, omegas, zs, kijs=None, T=None, P=None, V=None, fugacities=True, only_l=False, only_g=False):\n",
    "        # Your initialization code here\n",
    "                pass\n",
    "\n",
    "# Example usage\n",
    "eos = PRMIX(Tcs=[126.1, 190.6], Pcs=[33.94E5, 46.04E5], omegas=[0.04, 0.011], zs=[0.5, 0.5], kijs=[[0, 0], [0, 0]], T=115, P=1E6)\n",
    "eos.calculate()  # Assuming you have a calculate method in your PRMIX class\n",
    "print(\"Liquid phase volume:\", eos.V_l)\n",
    "print(\"Gas phase volume:\", eos.V_g)\n",
    "print(\"Fugacities in liquid phase:\", eos.fugacities_l)\n",
    "print(\"Fugacities in gas phase:\", eos.fugacities_g)"
   ]
  },
  {
   "cell_type": "code",
   "execution_count": null,
   "id": "b02b90b6",
   "metadata": {},
   "outputs": [],
   "source": []
  }
 ],
 "metadata": {
  "kernelspec": {
   "display_name": "Python 3 (ipykernel)",
   "language": "python",
   "name": "python3"
  },
  "language_info": {
   "codemirror_mode": {
    "name": "ipython",
    "version": 3
   },
   "file_extension": ".py",
   "mimetype": "text/x-python",
   "name": "python",
   "nbconvert_exporter": "python",
   "pygments_lexer": "ipython3",
   "version": "3.11.5"
  }
 },
 "nbformat": 4,
 "nbformat_minor": 5
}
