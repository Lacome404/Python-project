{
 "cells": [
  {
   "cell_type": "code",
   "execution_count": 8,
   "id": "3a3b7dbe",
   "metadata": {},
   "outputs": [
    {
     "name": "stdout",
     "output_type": "stream",
     "text": [
      "Alice is enrolled in Mathematics class.\n"
     ]
    }
   ],
   "source": [
    "# POSITIONAL ARGUMENTS\n",
    "\n",
    "def student_information (class_name, student_name):\n",
    "    print(student_name + \" is enrolled in \" + class_name + \" class.\")\n",
    "\n",
    "student_information('Mathematics','Alice')"
   ]
  },
  {
   "cell_type": "code",
   "execution_count": 14,
   "id": "df3ef8f7",
   "metadata": {},
   "outputs": [
    {
     "name": "stdout",
     "output_type": "stream",
     "text": [
      "Alice is enrolled in Mathematics class.\n"
     ]
    }
   ],
   "source": [
    "def student_information (class_name, student_name):\n",
    "    print(student_name + \" is enrolled in \" + class_name + \" class.\")\n",
    "    \n",
    "student_information(class_name = 'Mathematics', student_name = 'Alice')"
   ]
  },
  {
   "cell_type": "code",
   "execution_count": 28,
   "id": "f13f0e16",
   "metadata": {},
   "outputs": [],
   "source": [
    "def enroll_student(student_name, course = 'Introduction to Python'):\n",
    "#Enroll a student in a course with a default option\n",
    "    print(\"Student Name: \" + student_name)\n",
    "    print(\"Enrolled Course: \" + course)"
   ]
  },
  {
   "cell_type": "code",
   "execution_count": 21,
   "id": "ddbc8c54",
   "metadata": {},
   "outputs": [],
   "source": [
    "def enroll_in_courses(student_name, *courses):\n",
    "    print(\"Student: \" + student_name)\n",
    "    print(\"Enrolled in: \")\n",
    "    for course in courses:#use as dictionary so can code in the dict\n",
    "        print(\"-\" + course)\n",
    "    #Example of enrolling a student in three different courses:"
   ]
  },
  {
   "cell_type": "code",
   "execution_count": 22,
   "id": "93f6ba26",
   "metadata": {},
   "outputs": [
    {
     "name": "stdout",
     "output_type": "stream",
     "text": [
      "Student: Emily\n",
      "Enrolled in: \n",
      "-Biology 101\n",
      "-Chemistry\n"
     ]
    }
   ],
   "source": [
    "enroll_in_courses('Emily','Biology 101','Chemistry')"
   ]
  },
  {
   "cell_type": "code",
   "execution_count": 35,
   "id": "1f44ec02",
   "metadata": {},
   "outputs": [],
   "source": [
    "def enroll_student(student_name, **details ):\n",
    "    print(\"Enrolling\" +student_name + \"with the following details:\")\n",
    "    for detail, value in details.items():\n",
    "        print(\"-\" +detail.replace('_',' ').title() + \":\" +str(value))"
   ]
  },
  {
   "cell_type": "code",
   "execution_count": 36,
   "id": "05e4cac6",
   "metadata": {},
   "outputs": [
    {
     "name": "stdout",
     "output_type": "stream",
     "text": [
      "EnrollingSmithwith the following details:\n",
      "-Course:Algebra 11\n",
      "-Semester:One\n",
      "-Payment Method:Credit card\n"
     ]
    }
   ],
   "source": [
    "enroll_student('Smith',course='Algebra 11',semester = 'One', payment_method = 'Credit card')"
   ]
  },
  {
   "cell_type": "code",
   "execution_count": 1,
   "id": "d99afa2c",
   "metadata": {},
   "outputs": [
    {
     "name": "stdout",
     "output_type": "stream",
     "text": [
      "Checkout Information:\n",
      "Librarian: John Doe\n",
      "Books Checked Out: ('The Great Gatsby', 'To Kill a Mockingbird')\n",
      "Duration: 3 weeks\n",
      "late_fee: 0.5\n",
      "special_conditions: Handle with care\n",
      "Checkout successful!\n"
     ]
    }
   ],
   "source": [
    "def checkout_books(librarian_name, *book_titles, duration='2 weeks', **details):\n",
    "    \"\"\"\n",
    "    Manage book checkouts at a library.\n",
    "\n",
    "    Parameters:\n",
    "    - librarian_name: str, required, the name of the librarian processing the checkout.\n",
    "    - *book_titles: tuple, one or more book titles being checked out.\n",
    "    - duration: str, optional, default is '2 weeks', representing the standard checkout duration.\n",
    "    - **kwargs: additional information about the checkout, such as late_fee per day or special_conditions.\n",
    "\n",
    "    Returns:\n",
    "    - str, a message indicating the success or failure of the checkout process.\n",
    "    \"\"\"\n",
    "\n",
    "    # Process the checkout\n",
    "    checkout_info = {\n",
    "        'Librarian': librarian_name,\n",
    "        'Books Checked Out': book_titles,\n",
    "        'Duration': duration,\n",
    "        **kwargs  # Include any additional checkout information\n",
    "    }\n",
    "\n",
    "    # Print checkout information\n",
    "    print(\"Checkout Information:\")\n",
    "    for key, value in checkout_info.items():\n",
    "        print(f\"{key}: {value}\")\n",
    "\n",
    "    # Return a success message\n",
    "    return \"Checkout successful!\"\n",
    "\n",
    "# Example usage:\n",
    "librarian_name = \"John Doe\"\n",
    "book1 = \"The Great Gatsby\"\n",
    "book2 = \"To Kill a Mockingbird\"\n",
    "\n",
    "checkout_message = checkout_books(librarian_name, book1, book2, duration='3 weeks', late_fee=0.50, special_conditions=\"Handle with care\")\n",
    "print(checkout_message)"
   ]
  },
  {
   "cell_type": "code",
   "execution_count": 21,
   "id": "dd64da90",
   "metadata": {},
   "outputs": [
    {
     "name": "stdout",
     "output_type": "stream",
     "text": [
      "Checkout Processed by:Sarah Connor\n",
      "Books Checked Out:1984 and Brave New World\n",
      "The checkout duration of the book:3 weeks\n",
      "Additional Checkout Details:\n",
      "-Late Fee:$0.25\n",
      "-Renewals Allowed:2\n",
      "-Special Condition:Handle with care\n"
     ]
    }
   ],
   "source": [
    "def checkout_books(librarian_name):\n",
    "    print('Checkout Processed by:' + librarian_name)   \n",
    "checkout_books('Sarah Connor')\n",
    "\n",
    "def book_title(book_title1, book_title2):\n",
    "    print(\"Books Checked Out:\" + book_title1 +'and'+ book_title2)   \n",
    "book_title('1984 ', ' Brave New World')\n",
    "\n",
    "def checkout_duration(checkout_duration):\n",
    "    print(\"The checkout duration of the book:\"+checkout_duration)\n",
    "checkout_duration('3 weeks')\n",
    "\n",
    "def additional_checkout_details(book_title1,book_title2, **details):\n",
    "    print(\"Additional Checkout Details:\")\n",
    "    for detail, value in details.items():\n",
    "        print(\"-\"+detail.replace('_',' ').title()+\":\"+str(value))\n",
    "        \n",
    "\n",
    "        \n",
    "additional_checkout_details ('1984 ',' Brave New World ', Late_fee='$0.25', Renewals_Allowed= \"2\", Special_condition='Handle with care')\n"
   ]
  },
  {
   "cell_type": "code",
   "execution_count": 1,
   "id": "c3f05d8f",
   "metadata": {},
   "outputs": [
    {
     "name": "stdout",
     "output_type": "stream",
     "text": [
      "Checkout Processed by: Sarah Connor\n",
      "\n",
      "Books Checked Out:\n",
      "- 1984\n",
      "- Brave New World\n",
      "\n",
      "Checkout Duration: 3 weeks\n",
      "\n",
      "Additional Checkout Details:\n",
      "- Late Fee: $0.25\n",
      "- Renewals Allowed: 2\n",
      "\n",
      "Special Conditions For Checkout:\n",
      "- Handle with care\n"
     ]
    }
   ],
   "source": [
    "def checkout_books(librarian_name, *book_titles, duration='2 weeks', **kwargs):\n",
    "    print(\"Checkout Processed by: \"+librarian_name)\n",
    "    print(\"\\nBooks Checked Out:\")\n",
    "    for book in book_titles:\n",
    "        print(\"- \"+book)\n",
    "    print(\"\\nCheckout Duration: \"+duration)\n",
    "    \n",
    "    for key, value in kwargs.items():\n",
    "        print()\n",
    "        print(key.title().replace('_', ' ')+\":\")\n",
    "        for detail in value:\n",
    "            print(\"- \"+detail)\n",
    "\n",
    "# Example usage:\n",
    "checkout_books('Sarah Connor', '1984', 'Brave New World', duration='3 weeks', additional_checkout_details = {\"Late Fee: $0.25\",\"Renewals Allowed: 2\"},special_conditions_for_checkout = {\"Handle with care\"})"
   ]
  },
  {
   "cell_type": "code",
   "execution_count": null,
   "id": "314816ed",
   "metadata": {},
   "outputs": [],
   "source": []
  }
 ],
 "metadata": {
  "kernelspec": {
   "display_name": "Python 3 (ipykernel)",
   "language": "python",
   "name": "python3"
  },
  "language_info": {
   "codemirror_mode": {
    "name": "ipython",
    "version": 3
   },
   "file_extension": ".py",
   "mimetype": "text/x-python",
   "name": "python",
   "nbconvert_exporter": "python",
   "pygments_lexer": "ipython3",
   "version": "3.11.5"
  }
 },
 "nbformat": 4,
 "nbformat_minor": 5
}
