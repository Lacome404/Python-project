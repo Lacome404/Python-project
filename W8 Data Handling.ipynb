{
 "cells": [
  {
   "cell_type": "code",
   "execution_count": 5,
   "id": "01ddf3c2",
   "metadata": {},
   "outputs": [
    {
     "name": "stdout",
     "output_type": "stream",
     "text": [
      "Testing 123....//\n"
     ]
    }
   ],
   "source": [
    "with open('example.txt', 'r') as file:\n",
    "    content = file.read()\n",
    "    print(content)\n"
   ]
  },
  {
   "cell_type": "code",
   "execution_count": 8,
   "id": "ef638393",
   "metadata": {},
   "outputs": [
    {
     "name": "stdout",
     "output_type": "stream",
     "text": [
      "['Name', 'Age', 'Grade']\n",
      "['Alice', '21', 'A']\n",
      "['Bob', '22', 'F']\n",
      "['Charlie', '18', 'B']\n",
      "['David', '21', 'A']\n",
      "['Eve', '20', 'A']\n",
      "['Fiona', '18', 'C']\n",
      "['George', '19', 'A']\n",
      "['Hannah', '20', 'C']\n",
      "['Isla', '22', 'A']\n",
      "['Jack', '21', 'B']\n",
      "['Alice', '20', 'C']\n",
      "['Bob', '20', 'C']\n",
      "['Charlie', '18', 'C']\n",
      "['David', '20', 'A']\n",
      "['Eve', '21', 'B']\n",
      "['Fiona', '19', 'C']\n",
      "['George', '18', 'F']\n",
      "['Hannah', '19', 'B']\n",
      "['Isla', '19', 'B']\n",
      "['Jack', '18', 'F']\n",
      "['Alice', '18', 'F']\n",
      "['Bob', '18', 'F']\n",
      "['Charlie', '18', 'C']\n",
      "['David', '18', 'F']\n",
      "['Eve', '20', 'B']\n",
      "['Fiona', '19', 'B']\n",
      "['George', '21', 'D']\n",
      "['Hannah', '19', 'B']\n",
      "['Isla', '19', 'B']\n",
      "['Jack', '18', 'F']\n",
      "['Alice', '19', 'B']\n",
      "['Bob', '20', 'B']\n",
      "['Charlie', '22', 'D']\n",
      "['David', '20', 'C']\n",
      "['Eve', '19', 'A']\n",
      "['Fiona', '20', 'F']\n",
      "['George', '21', 'F']\n",
      "['Hannah', '22', 'F']\n",
      "['Isla', '21', 'F']\n",
      "['Jack', '19', 'F']\n",
      "['Alice', '20', 'C']\n",
      "['Bob', '22', 'F']\n",
      "['Charlie', '21', 'C']\n",
      "['David', '21', 'C']\n",
      "['Eve', '22', 'A']\n",
      "['Fiona', '20', 'B']\n",
      "['George', '20', 'D']\n",
      "['Hannah', '21', 'F']\n",
      "['Isla', '22', 'B']\n",
      "['Jack', '21', 'B']\n",
      "['Alice', '22', 'B']\n",
      "['Bob', '20', 'C']\n",
      "['Charlie', '21', 'A']\n",
      "['David', '22', 'F']\n",
      "['Eve', '19', 'A']\n",
      "['Fiona', '19', 'F']\n",
      "['George', '21', 'D']\n",
      "['Hannah', '20', 'B']\n",
      "['Isla', '18', 'A']\n",
      "['Jack', '18', 'D']\n",
      "['Alice', '18', 'C']\n",
      "['Bob', '20', 'C']\n",
      "['Charlie', '19', 'C']\n",
      "['David', '20', 'F']\n",
      "['Eve', '18', 'D']\n",
      "['Fiona', '22', 'A']\n",
      "['George', '18', 'D']\n",
      "['Hannah', '18', 'C']\n",
      "['Isla', '20', 'B']\n",
      "['Jack', '20', 'F']\n",
      "['Alice', '22', 'A']\n",
      "['Bob', '20', 'F']\n",
      "['Charlie', '22', 'C']\n",
      "['David', '18', 'A']\n",
      "['Eve', '20', 'F']\n",
      "['Fiona', '19', 'A']\n",
      "['George', '18', 'F']\n",
      "['Hannah', '19', 'B']\n",
      "['Isla', '18', 'D']\n",
      "['Jack', '22', 'B']\n",
      "['Alice', '19', 'A']\n",
      "['Bob', '19', 'D']\n",
      "['Charlie', '19', 'A']\n",
      "['David', '20', 'F']\n",
      "['Eve', '19', 'B']\n",
      "['Fiona', '20', 'C']\n",
      "['George', '22', 'A']\n",
      "['Hannah', '19', 'D']\n",
      "['Isla', '19', 'C']\n",
      "['Jack', '21', 'C']\n",
      "['Alice', '18', 'A']\n",
      "['Bob', '19', 'B']\n",
      "['Charlie', '22', 'F']\n",
      "['David', '22', 'A']\n",
      "['Eve', '21', 'C']\n",
      "['Fiona', '19', 'F']\n",
      "['George', '18', 'C']\n",
      "['Hannah', '22', 'F']\n",
      "['Isla', '18', 'F']\n",
      "['Jack', '20', 'D']\n"
     ]
    }
   ],
   "source": [
    "import csv\n",
    "with open('student.csv', 'r') as file:\n",
    "    csv_reader = csv.reader(file)\n",
    "    for row in csv_reader:\n",
    "        print(row)"
   ]
  },
  {
   "cell_type": "code",
   "execution_count": 13,
   "id": "308696cc",
   "metadata": {},
   "outputs": [
    {
     "name": "stdout",
     "output_type": "stream",
     "text": [
      "A\n",
      "F\n",
      "B\n",
      "A\n",
      "A\n",
      "C\n",
      "A\n",
      "C\n",
      "A\n",
      "B\n",
      "C\n",
      "C\n",
      "C\n",
      "A\n",
      "B\n",
      "C\n",
      "F\n",
      "B\n",
      "B\n",
      "F\n",
      "F\n",
      "F\n",
      "C\n",
      "F\n",
      "B\n",
      "B\n",
      "D\n",
      "B\n",
      "B\n",
      "F\n",
      "B\n",
      "B\n",
      "D\n",
      "C\n",
      "A\n",
      "F\n",
      "F\n",
      "F\n",
      "F\n",
      "F\n",
      "C\n",
      "F\n",
      "C\n",
      "C\n",
      "A\n",
      "B\n",
      "D\n",
      "F\n",
      "B\n",
      "B\n",
      "B\n",
      "C\n",
      "A\n",
      "F\n",
      "A\n",
      "F\n",
      "D\n",
      "B\n",
      "A\n",
      "D\n",
      "C\n",
      "C\n",
      "C\n",
      "F\n",
      "D\n",
      "A\n",
      "D\n",
      "C\n",
      "B\n",
      "F\n",
      "A\n",
      "F\n",
      "C\n",
      "A\n",
      "F\n",
      "A\n",
      "F\n",
      "B\n",
      "D\n",
      "B\n",
      "A\n",
      "D\n",
      "A\n",
      "F\n",
      "B\n",
      "C\n",
      "A\n",
      "D\n",
      "C\n",
      "C\n",
      "A\n",
      "B\n",
      "F\n",
      "A\n",
      "C\n",
      "F\n",
      "C\n",
      "F\n",
      "F\n",
      "D\n"
     ]
    }
   ],
   "source": [
    "import csv\n",
    "with open('students.csv', 'r') as c_file:\n",
    "    csv_reader = csv.DictReader(c_file)\n",
    "    for row in csv_reader:\n",
    "        print(row['Grade'])"
   ]
  },
  {
   "cell_type": "code",
   "execution_count": 20,
   "id": "405af287",
   "metadata": {},
   "outputs": [],
   "source": [
    "with open('output.txt', 'w') as file:\n",
    "    file.write('Hello, Python!')\n",
    "    file.write('Hello, World!')"
   ]
  },
  {
   "cell_type": "code",
   "execution_count": 21,
   "id": "075efb2f",
   "metadata": {},
   "outputs": [],
   "source": [
    "import csv\n",
    "with open('output.csv', 'w', newline='') as file:\n",
    "    writer = csv.writer(file)\n",
    "    writer.writerow(['Name', 'Age'])\n",
    "    writer.writerow(['Alice', 30])"
   ]
  },
  {
   "cell_type": "code",
   "execution_count": 22,
   "id": "057081bc",
   "metadata": {},
   "outputs": [],
   "source": [
    "import json\n",
    "data = {'name': 'Alice', 'age': 30}\n",
    "with open('output.json', 'w') as file:\n",
    "    json.dump(data, file)\n"
   ]
  },
  {
   "cell_type": "code",
   "execution_count": 38,
   "id": "aa1a0c6c",
   "metadata": {},
   "outputs": [
    {
     "ename": "ValueError",
     "evalue": "I/O operation on closed file.",
     "output_type": "error",
     "traceback": [
      "\u001b[1;31m---------------------------------------------------------------------------\u001b[0m",
      "\u001b[1;31mValueError\u001b[0m                                Traceback (most recent call last)",
      "Cell \u001b[1;32mIn[38], line 30\u001b[0m\n\u001b[0;32m     27\u001b[0m output_file \u001b[38;5;241m=\u001b[39m \u001b[38;5;124m'\u001b[39m\u001b[38;5;124mtop_students.csv\u001b[39m\u001b[38;5;124m'\u001b[39m\n\u001b[0;32m     29\u001b[0m \u001b[38;5;66;03m# Call the function to filter and write the data\u001b[39;00m\n\u001b[1;32m---> 30\u001b[0m filter_students(input_file, output_file)\n\u001b[0;32m     32\u001b[0m \u001b[38;5;28mprint\u001b[39m(\u001b[38;5;124mf\u001b[39m\u001b[38;5;124m\"\u001b[39m\u001b[38;5;124mFiltered data saved to \u001b[39m\u001b[38;5;132;01m{\u001b[39;00moutput_file\u001b[38;5;132;01m}\u001b[39;00m\u001b[38;5;124m.\u001b[39m\u001b[38;5;124m\"\u001b[39m)\n",
      "Cell \u001b[1;32mIn[38], line 4\u001b[0m, in \u001b[0;36mfilter_students\u001b[1;34m(input_file, output_file)\u001b[0m\n\u001b[0;32m      2\u001b[0m \u001b[38;5;28;01mdef\u001b[39;00m \u001b[38;5;21mfilter_students\u001b[39m(input_file, output_file):\n\u001b[0;32m      3\u001b[0m     \u001b[38;5;28;01mwith\u001b[39;00m \u001b[38;5;28mopen\u001b[39m(input_file,\u001b[38;5;124m'\u001b[39m\u001b[38;5;124mr\u001b[39m\u001b[38;5;124m'\u001b[39m,newline\u001b[38;5;241m=\u001b[39m\u001b[38;5;124m'\u001b[39m\u001b[38;5;124m'\u001b[39m) \u001b[38;5;28;01mas\u001b[39;00m csvfile:\n\u001b[1;32m----> 4\u001b[0m         csv_reader \u001b[38;5;241m=\u001b[39m csv\u001b[38;5;241m.\u001b[39mDictReader(file)\n\u001b[0;32m      5\u001b[0m         header \u001b[38;5;241m=\u001b[39m reader\u001b[38;5;241m.\u001b[39mfieldnames\n\u001b[0;32m      7\u001b[0m         filtered_students \u001b[38;5;241m=\u001b[39m []\n",
      "File \u001b[1;32m~\\anaconda3\\Lib\\csv.py:86\u001b[0m, in \u001b[0;36mDictReader.__init__\u001b[1;34m(self, f, fieldnames, restkey, restval, dialect, *args, **kwds)\u001b[0m\n\u001b[0;32m     84\u001b[0m \u001b[38;5;28mself\u001b[39m\u001b[38;5;241m.\u001b[39mrestkey \u001b[38;5;241m=\u001b[39m restkey          \u001b[38;5;66;03m# key to catch long rows\u001b[39;00m\n\u001b[0;32m     85\u001b[0m \u001b[38;5;28mself\u001b[39m\u001b[38;5;241m.\u001b[39mrestval \u001b[38;5;241m=\u001b[39m restval          \u001b[38;5;66;03m# default value for short rows\u001b[39;00m\n\u001b[1;32m---> 86\u001b[0m \u001b[38;5;28mself\u001b[39m\u001b[38;5;241m.\u001b[39mreader \u001b[38;5;241m=\u001b[39m reader(f, dialect, \u001b[38;5;241m*\u001b[39margs, \u001b[38;5;241m*\u001b[39m\u001b[38;5;241m*\u001b[39mkwds)\n\u001b[0;32m     87\u001b[0m \u001b[38;5;28mself\u001b[39m\u001b[38;5;241m.\u001b[39mdialect \u001b[38;5;241m=\u001b[39m dialect\n\u001b[0;32m     88\u001b[0m \u001b[38;5;28mself\u001b[39m\u001b[38;5;241m.\u001b[39mline_num \u001b[38;5;241m=\u001b[39m \u001b[38;5;241m0\u001b[39m\n",
      "\u001b[1;31mValueError\u001b[0m: I/O operation on closed file."
     ]
    }
   ],
   "source": [
    "import csv\n",
    "def filter_students(input_file, output_file):\n",
    "    with open(input_file,'r',newline='') as csvfile:\n",
    "        csv_reader = csv.DictReader(file)\n",
    "        header = reader.fieldnames\n",
    "        \n",
    "        filtered_students = []\n",
    "        \n",
    "        for row in csv_reader:\n",
    "            if row['Grade']>='B':\n",
    "                row['Status'] = 'Passed'\n",
    "                filtered_student.append(row)\n",
    "                \n",
    "    with open(output_file, 'w', newline='') as csvfile:\n",
    "        # Create a CSV writer\n",
    "        writer = csv.DictWriter(csvfile, fieldnames=header + ['Status'])\n",
    "\n",
    "        # Write the header\n",
    "        writer.writeheader()\n",
    "\n",
    "        # Write the filtered data\n",
    "        writer.writerows(filtered_students)\n",
    "        \n",
    "if __name__ == \"__main__\":\n",
    "    # Specify the input and output file names\n",
    "    input_file = 'students.csv'\n",
    "    output_file = 'top_students.csv'\n",
    "\n",
    "    # Call the function to filter and write the data\n",
    "    filter_students(input_file, output_file)\n",
    "\n",
    "    print(f\"Filtered data saved to {output_file}.\")\n"
   ]
  },
  {
   "cell_type": "code",
   "execution_count": 25,
   "id": "82177361",
   "metadata": {},
   "outputs": [
    {
     "name": "stdout",
     "output_type": "stream",
     "text": [
      "[{'administrative_division': 'State of Malaysia', 'state': 'Johor', 'capital': 'Johor Bahru', 'royal_capital': 'Muar', 'population': 3794000, 'total_area': 19166, 'licence_plate_prefix': 'J', 'phone_area_code': '07, 06 (Muar & Tangkak)', 'abbreviation': 'JHR', 'ISO': 'MY-01', 'FIPS': 'MY01', 'HDI': 0.818, 'region': 'Peninsular Malaysia', 'head_of_state': 'Sultan', 'head_of_goverment': 'Menteri Besar'}, {'administrative_division': 'State of Malaysia', 'state': 'Kedah', 'capital': 'Alor Setar', 'royal_capital': 'Anak Bukit', 'population': 2194100, 'total_area': 9492, 'licence_plate_prefix': 'K', 'phone_area_code': '04', 'abbreviation': 'KDH', 'ISO': 'MY-02', 'FIPS': 'MY03', 'HDI': 0.802, 'region': 'Peninsular Malaysia', 'head_of_state': 'Sultan', 'head_of_goverment': 'Menteri Besar'}, {'administrative_division': 'State of Malaysia', 'state': 'Kelantan', 'capital': 'Kota Bharu', 'royal_capital': 'Kubang Kerian', 'population': 1928800, 'total_area': 15040, 'licence_plate_prefix': 'D', 'phone_area_code': '09', 'abbreviation': 'KTN', 'ISO': 'MY-03', 'FIPS': 'MY03', 'HDI': 0.772, 'region': 'Peninsular Malaysia', 'head_of_state': 'Sultan', 'head_of_goverment': 'Menteri Besar'}, {'administrative_division': 'State of Malaysia', 'state': 'Malacca', 'capital': 'Malacca City', 'royal_capital': '-', 'population': 937500, 'total_area': 1712, 'licence_plate_prefix': 'M', 'phone_area_code': '06', 'abbreviation': 'MLK', 'ISO': 'MY-04', 'FIPS': 'MY04', 'HDI': 0.828, 'region': 'Peninsular Malaysia', 'head_of_state': 'Yang di-Pertua Negeri (Governor)', 'head_of_goverment': 'Chief Minister'}, {'administrative_division': 'State of Malaysia', 'state': 'Negeri Sembilan', 'capital': 'Seremban', 'royal_capital': 'Seri Menanti', 'population': 1129100, 'total_area': 6658, 'licence_plate_prefix': 'N', 'phone_area_code': '06', 'abbreviation': 'NSN', 'ISO': 'MY-05', 'FIPS': 'MY05', 'HDI': 0.822, 'region': 'Peninsular Malaysia', 'head_of_state': 'Yang di-Pertua Negeri (Grand Ruler)', 'head_of_goverment': 'Menteri Besar'}, {'administrative_division': 'State of Malaysia', 'state': 'Pahang', 'capital': 'Kuantan', 'royal_capital': 'Pekan', 'population': 1684600, 'total_area': 35965, 'licence_plate_prefix': 'C', 'phone_area_code': '09, 03 (Genting Highlands), 05 (Cameron)', 'abbreviation': 'PHG', 'ISO': 'MY-06', 'FIPS': 'MY06', 'HDI': 0.797, 'region': 'Peninsular Malaysia', 'head_of_state': 'Sultan', 'head_of_goverment': 'Menteri Besar'}, {'administrative_division': 'State of Malaysia', 'state': 'Penang', 'capital': 'George Town', 'royal_capital': '-', 'population': 1774400, 'total_area': 1049, 'licence_plate_prefix': 'P', 'phone_area_code': '04', 'abbreviation': 'PNG', 'ISO': 'MY-07', 'FIPS': 'MY09', 'HDI': 0.838, 'region': 'Peninsular Malaysia', 'head_of_state': 'Yang di-Pertua Negeri (Governor)', 'head_of_goverment': 'Chief Minister'}, {'administrative_division': 'State of Malaysia', 'state': 'Perak', 'capital': 'Ipoh', 'royal_capital': 'Kuala Kangsar', 'population': 2508900, 'total_area': 21146, 'licence_plate_prefix': 'A', 'phone_area_code': '05', 'abbreviation': 'PRK', 'ISO': 'MY-08', 'FIPS': 'MY07', 'HDI': 0.809, 'region': 'Peninsular Malaysia', 'head_of_state': 'Sultan', 'head_of_goverment': 'Menteri Besar'}, {'administrative_division': 'State of Malaysia', 'state': 'Perlis', 'capital': 'Kangar', 'royal_capital': 'Arau', 'population': 255400, 'total_area': 819, 'licence_plate_prefix': 'R', 'phone_area_code': '04', 'abbreviation': 'PLS', 'ISO': 'MY-09', 'FIPS': 'MY08', 'HDI': 0.799, 'region': 'Peninsular Malaysia', 'head_of_state': 'Raja', 'head_of_goverment': 'Menteri Besar'}, {'administrative_division': 'State of Malaysia', 'state': 'Sabah', 'capital': 'Kota Kinabalu', 'royal_capital': '-', 'population': 3833000, 'total_area': 73621, 'licence_plate_prefix': 'S', 'phone_area_code': '087–089', 'abbreviation': 'SBH', 'ISO': 'MY-12', 'FIPS': 'MY16', 'HDI': 0.704, 'region': 'East Malaysia', 'head_of_state': 'Yang di-Pertua Negeri (Governor)', 'head_of_goverment': 'Chief Minister'}, {'administrative_division': 'State of Malaysia', 'state': 'Sarawak', 'capital': 'Kuching', 'royal_capital': '-', 'population': 2822200, 'total_area': 124450, 'licence_plate_prefix': 'Q', 'phone_area_code': '081–086', 'abbreviation': 'SWK', 'ISO': 'MY-13', 'FIPS': 'MY11', 'HDI': 0.739, 'region': 'East Malaysia', 'head_of_state': 'Yang di-Pertua Negeri (Governor)', 'head_of_goverment': 'Chief Minister'}, {'administrative_division': 'State of Malaysia', 'state': 'Selangor', 'capital': 'Shah Alam', 'royal_capital': 'Klang', 'population': 6555400, 'total_area': 7951, 'licence_plate_prefix': 'B', 'phone_area_code': '03', 'abbreviation': 'SGR', 'ISO': 'MY-10', 'FIPS': 'MY12', 'HDI': 0.855, 'region': 'Peninsular Malaysia', 'head_of_state': 'Sultan', 'head_of_goverment': 'Menteri Besar'}, {'administrative_division': 'State of Malaysia', 'state': 'Terengganu', 'capital': 'Kuala Terengganu', 'royal_capital': 'Kuala Terengganu', 'population': 1275100, 'total_area': 12958, 'licence_plate_prefix': 'T', 'phone_area_code': '09', 'abbreviation': 'TRG', 'ISO': 'MY-11', 'FIPS': 'MY13', 'HDI': 0.793, 'region': 'Peninsular Malaysia', 'head_of_state': 'Sultan', 'head_of_goverment': 'Menteri Besar'}, {'administrative_division': 'Federal Territory of Malaysia', 'state': 'Kuala Lumpur', 'capital': 'Kuala Lumpur', 'royal_capital': '', 'population': 1746600, 'total_area': 243, 'licence_plate_prefix': 'W / V', 'phone_area_code': '03', 'abbreviation': 'KUL', 'ISO': 'MY-14', 'FIPS': '', 'HDI': 0.86, 'region': 'Peninsular Malaysia', 'head_of_state': 'Yang di-Pertuan Agong', 'head_of_goverment': 'Mayor'}, {'administrative_division': 'Federal Territory of Malaysia', 'state': 'Labuan', 'capital': 'Victoria', 'royal_capital': '', 'population': 100100, 'total_area': 92, 'licence_plate_prefix': 'L', 'phone_area_code': '087', 'abbreviation': 'LBN', 'ISO': 'MY-15', 'FIPS': 'MY15', 'HDI': 0.778, 'region': 'East Malaysia', 'head_of_state': 'Yang di-Pertuan Agong', 'head_of_goverment': 'President of Labuan Corporation'}, {'administrative_division': 'Federal Territory of Malaysia', 'state': 'Putrajaya', 'capital': 'Putrajaya', 'royal_capital': '', 'population': 116100, 'total_area': 49, 'licence_plate_prefix': 'F', 'phone_area_code': '03', 'abbreviation': 'PJY', 'ISO': 'MY-16', 'FIPS': '', 'HDI': 0.877, 'region': 'Peninsular Malaysia', 'head_of_state': 'Yang di-Pertuan Agong', 'head_of_goverment': 'President of Putrajaya Corporation'}]\n"
     ]
    }
   ],
   "source": [
    "import requests\n",
    "api_url = \"https://jian.sh/malaysia-api/state/v1/all.json\"\n",
    "response = requests.get(api_url)\n",
    "malaysia_state_data = response.json()\n",
    "print(malaysia_state_data)"
   ]
  },
  {
   "cell_type": "code",
   "execution_count": 28,
   "id": "cb20148c",
   "metadata": {},
   "outputs": [
    {
     "name": "stdout",
     "output_type": "stream",
     "text": [
      "State: Johor, Capital: Johor Bahru, Population: 3794000\n",
      "State: Kedah, Capital: Alor Setar, Population: 2194100\n",
      "State: Kelantan, Capital: Kota Bharu, Population: 1928800\n",
      "State: Malacca, Capital: Malacca City, Population: 937500\n",
      "State: Negeri Sembilan, Capital: Seremban, Population: 1129100\n",
      "State: Pahang, Capital: Kuantan, Population: 1684600\n",
      "State: Penang, Capital: George Town, Population: 1774400\n",
      "State: Perak, Capital: Ipoh, Population: 2508900\n",
      "State: Perlis, Capital: Kangar, Population: 255400\n",
      "State: Sabah, Capital: Kota Kinabalu, Population: 3833000\n",
      "State: Sarawak, Capital: Kuching, Population: 2822200\n",
      "State: Selangor, Capital: Shah Alam, Population: 6555400\n",
      "State: Terengganu, Capital: Kuala Terengganu, Population: 1275100\n",
      "State: Kuala Lumpur, Capital: Kuala Lumpur, Population: 1746600\n",
      "State: Labuan, Capital: Victoria, Population: 100100\n",
      "State: Putrajaya, Capital: Putrajaya, Population: 116100\n"
     ]
    }
   ],
   "source": [
    "import requests\n",
    "api_url = \"https://jian.sh/malaysia-api/state/v1/all.json\"\n",
    "response = requests.get(api_url)\n",
    "malaysia_state_data = response.json()\n",
    "\n",
    "for state in malaysia_state_data:\n",
    "    print(f\"State: {state['state']}, Capital: {state['capital']}, Population: {state['population']}\")\n"
   ]
  },
  {
   "cell_type": "code",
   "execution_count": 30,
   "id": "27ed2461",
   "metadata": {},
   "outputs": [
    {
     "ename": "IndentationError",
     "evalue": "expected an indented block after 'try' statement on line 6 (4013856502.py, line 7)",
     "output_type": "error",
     "traceback": [
      "\u001b[1;36m  Cell \u001b[1;32mIn[30], line 7\u001b[1;36m\u001b[0m\n\u001b[1;33m    for state in malaysia_state_data:\u001b[0m\n\u001b[1;37m    ^\u001b[0m\n\u001b[1;31mIndentationError\u001b[0m\u001b[1;31m:\u001b[0m expected an indented block after 'try' statement on line 6\n"
     ]
    }
   ],
   "source": [
    "import requests\n",
    "api_url = \"https://jian.sh/malaysia-api/state/v1/all.json\"\n",
    "response = requests.get(api_url)\n",
    "malaysia_state_data = response.json()\n",
    "\n",
    "try:\n",
    "for state in malaysia_state_data:\n",
    "    print(f\"State: {state['state']}, Capital: {state['capital']}, Population: {state['population']}\")\n",
    "    \n",
    "except \n"
   ]
  },
  {
   "cell_type": "code",
   "execution_count": 31,
   "id": "b30ff9a3",
   "metadata": {},
   "outputs": [
    {
     "name": "stdout",
     "output_type": "stream",
     "text": [
      "Enter the name of a state: Johor\n"
     ]
    },
    {
     "ename": "NameError",
     "evalue": "name 'state_population' is not defined",
     "output_type": "error",
     "traceback": [
      "\u001b[1;31m---------------------------------------------------------------------------\u001b[0m",
      "\u001b[1;31mNameError\u001b[0m                                 Traceback (most recent call last)",
      "Cell \u001b[1;32mIn[31], line 14\u001b[0m\n\u001b[0;32m     11\u001b[0m state_name \u001b[38;5;241m=\u001b[39m \u001b[38;5;28minput\u001b[39m(\u001b[38;5;124m\"\u001b[39m\u001b[38;5;124mEnter the name of a state: \u001b[39m\u001b[38;5;124m\"\u001b[39m)\n\u001b[0;32m     13\u001b[0m \u001b[38;5;66;03m# Check if the state is in the dataset\u001b[39;00m\n\u001b[1;32m---> 14\u001b[0m population \u001b[38;5;241m=\u001b[39m get_population(state_name)\n\u001b[0;32m     17\u001b[0m \u001b[38;5;66;03m# Display the result\u001b[39;00m\n\u001b[0;32m     18\u001b[0m \u001b[38;5;28;01mif\u001b[39;00m population \u001b[38;5;129;01mis\u001b[39;00m \u001b[38;5;129;01mnot\u001b[39;00m \u001b[38;5;28;01mNone\u001b[39;00m:\n",
      "Cell \u001b[1;32mIn[31], line 7\u001b[0m, in \u001b[0;36mget_population\u001b[1;34m(state_name)\u001b[0m\n\u001b[0;32m      6\u001b[0m \u001b[38;5;28;01mdef\u001b[39;00m \u001b[38;5;21mget_population\u001b[39m(state_name):\n\u001b[1;32m----> 7\u001b[0m     \u001b[38;5;28;01mreturn\u001b[39;00m state_population\u001b[38;5;241m.\u001b[39mget(state_name, \u001b[38;5;28;01mNone\u001b[39;00m)\n",
      "\u001b[1;31mNameError\u001b[0m: name 'state_population' is not defined"
     ]
    }
   ],
   "source": [
    "import requests\n",
    "api_url = \"https://jian.sh/malaysia-api/state/v1/all.json\"\n",
    "response = requests.get(api_url)\n",
    "malaysia_state_data = response.json()\n",
    "\n",
    "while True:\n",
    "    # Take user input for the state name\n",
    "    state_name = input(\"Enter the name of a state: \")\n",
    "\n",
    "    # Check if the state is in the dataset\n",
    "    population = get_population(state_name)\n",
    "    \n",
    "    \n",
    "    # Display the result\n",
    "    if population is not None:\n",
    "        print(f\"Population of {state_name}: {population}\")\n",
    "    else:\n",
    "        print(f\"{state_name} is not found in the data.\")\n",
    "    \n",
    "    # Ask the user if they want to check another state\n",
    "    another_state = input(\"Do you want to check another state? (yes/no): \")\n",
    "    \n",
    "    if another_state.lower() != 'yes':\n",
    "        break"
   ]
  },
  {
   "cell_type": "code",
   "execution_count": null,
   "id": "4c8414c3",
   "metadata": {},
   "outputs": [],
   "source": []
  }
 ],
 "metadata": {
  "kernelspec": {
   "display_name": "Python 3 (ipykernel)",
   "language": "python",
   "name": "python3"
  },
  "language_info": {
   "codemirror_mode": {
    "name": "ipython",
    "version": 3
   },
   "file_extension": ".py",
   "mimetype": "text/x-python",
   "name": "python",
   "nbconvert_exporter": "python",
   "pygments_lexer": "ipython3",
   "version": "3.11.5"
  }
 },
 "nbformat": 4,
 "nbformat_minor": 5
}
