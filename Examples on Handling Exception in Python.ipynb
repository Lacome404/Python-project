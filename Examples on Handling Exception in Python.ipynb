{
 "cells": [
  {
   "cell_type": "code",
   "execution_count": 1,
   "id": "243322a9",
   "metadata": {},
   "outputs": [
    {
     "ename": "TypeError",
     "evalue": "can only concatenate str (not \"int\") to str",
     "output_type": "error",
     "traceback": [
      "\u001b[1;31m---------------------------------------------------------------------------\u001b[0m",
      "\u001b[1;31mTypeError\u001b[0m                                 Traceback (most recent call last)",
      "Cell \u001b[1;32mIn[1], line 1\u001b[0m\n\u001b[1;32m----> 1\u001b[0m x\u001b[38;5;241m=\u001b[39m\u001b[38;5;124m\"\u001b[39m\u001b[38;5;124m2\u001b[39m\u001b[38;5;124m\"\u001b[39m\u001b[38;5;241m+\u001b[39m\u001b[38;5;241m2\u001b[39m\n",
      "\u001b[1;31mTypeError\u001b[0m: can only concatenate str (not \"int\") to str"
     ]
    }
   ],
   "source": [
    "x=\"2\"+2"
   ]
  },
  {
   "cell_type": "code",
   "execution_count": 4,
   "id": "c5009045",
   "metadata": {},
   "outputs": [
    {
     "name": "stdout",
     "output_type": "stream",
     "text": [
      "The value cannot multiply string with int, error\n"
     ]
    }
   ],
   "source": [
    "try:\n",
    "    #\n",
    "    x=\"2\"+2\n",
    "except:\n",
    "    print(\"The value cannot multiply string with int, error\")"
   ]
  },
  {
   "cell_type": "code",
   "execution_count": 5,
   "id": "f160838c",
   "metadata": {},
   "outputs": [
    {
     "name": "stdout",
     "output_type": "stream",
     "text": [
      "Please enter a valid number566\n"
     ]
    }
   ],
   "source": [
    "number = int(input(\"Please enter a valid number\"))"
   ]
  },
  {
   "cell_type": "code",
   "execution_count": 9,
   "id": "7db1a1b2",
   "metadata": {},
   "outputs": [
    {
     "name": "stdout",
     "output_type": "stream",
     "text": [
      "Please enter a valid number sus\n",
      "The input data is not a number\n"
     ]
    }
   ],
   "source": [
    "try:\n",
    "    number = int(input(\"Please enter a valid number \"))\n",
    "except:\n",
    "    print(\"The input data is not a number\")"
   ]
  },
  {
   "cell_type": "code",
   "execution_count": 13,
   "id": "859401fd",
   "metadata": {},
   "outputs": [
    {
     "data": {
      "text/plain": [
       "3"
      ]
     },
     "execution_count": 13,
     "metadata": {},
     "output_type": "execute_result"
    }
   ],
   "source": [
    "my_list = [1,2,3]\n",
    "#index starts from [0,1,2]\n",
    "my_list[2]"
   ]
  },
  {
   "cell_type": "code",
   "execution_count": 21,
   "id": "fc50401b",
   "metadata": {},
   "outputs": [
    {
     "name": "stdout",
     "output_type": "stream",
     "text": [
      "the value is not exist\n"
     ]
    }
   ],
   "source": [
    "try:\n",
    "    my_list = [1,2,3]\n",
    "#index starts from [0,1,2]\n",
    "    my_list[5]\n",
    "    print(\"the value is exist\")\n",
    "except:\n",
    "    print(\"the value is not exist\")"
   ]
  },
  {
   "cell_type": "code",
   "execution_count": 22,
   "id": "8ef4a5e5",
   "metadata": {},
   "outputs": [
    {
     "name": "stdout",
     "output_type": "stream",
     "text": [
      "enter a number: de\n",
      "That's not a number\n",
      "This is executed no matter what!\n"
     ]
    }
   ],
   "source": [
    "try:\n",
    "    number = int(input(\"enter a number: \"))\n",
    "except ValueError:\n",
    "    print(\"That's not a number\")\n",
    "else:\n",
    "    print(\"You entered a number\")\n",
    "finally:\n",
    "    print(\"This is executed no matter what!\")\n",
    "    "
   ]
  },
  {
   "cell_type": "code",
   "execution_count": 60,
   "id": "77beabac",
   "metadata": {},
   "outputs": [
    {
     "name": "stdout",
     "output_type": "stream",
     "text": [
      "Enter a number 0\n",
      "Division by zero is not allowed.\n"
     ]
    }
   ],
   "source": [
    "try:\n",
    "    user_input = input(\"Enter a number \")\n",
    "    result = 1/int(user_input)\n",
    "    print(result)\n",
    "except ValueError:\n",
    "    print(\"Please enter a valid integer.\")\n",
    "except ZeroDivisionError:\n",
    "    print(\"Division by zero is not allowed.\")"
   ]
  },
  {
   "cell_type": "code",
   "execution_count": null,
   "id": "a21527e2",
   "metadata": {},
   "outputs": [
    {
     "name": "stdout",
     "output_type": "stream",
     "text": [
      "Options:\n",
      "Enter 'add' for addition\n",
      "Enter 'subtract' for subtraction\n",
      "Enter 'multiply' for multiplication\n",
      "Enter 'divide' for division\n",
      "Enter 'quit' to end the program\n",
      ": add\n",
      "Enter first number: 4\n",
      "Enter second number: 6\n",
      "Result:  10.0\n",
      "Options:\n",
      "Enter 'add' for addition\n",
      "Enter 'subtract' for subtraction\n",
      "Enter 'multiply' for multiplication\n",
      "Enter 'divide' for division\n",
      "Enter 'quit' to end the program\n",
      ": dsjd\n",
      "Invalid input. Please enter a valid option.\n",
      "Options:\n",
      "Enter 'add' for addition\n",
      "Enter 'subtract' for subtraction\n",
      "Enter 'multiply' for multiplication\n",
      "Enter 'divide' for division\n",
      "Enter 'quit' to end the program\n"
     ]
    }
   ],
   "source": [
    "\n",
    "def sum(a,b):\n",
    "  return a+b\n",
    "\n",
    "def sub(a,b):\n",
    "  return a-b\n",
    "\n",
    "def mul(a,b):\n",
    "  return a*b\n",
    "\n",
    "def div(a,b):\n",
    "    if y == 0:\n",
    "        raise ZeroDivisionError(\"Division by zero is not allowed.\")\n",
    "    return a/b\n",
    "\n",
    "while True:\n",
    "    try:\n",
    "        print(\"Options:\")\n",
    "        print(\"Enter 'add' for addition\")\n",
    "        print(\"Enter 'subtract' for subtraction\")\n",
    "        print(\"Enter 'multiply' for multiplication\")\n",
    "        print(\"Enter 'divide' for division\")\n",
    "        print(\"Enter 'quit' to end the program\")\n",
    "    \n",
    "        simple_calculator = input (\": \")\n",
    "    \n",
    "        if simple_calculator == \"quit\":\n",
    "            break\n",
    "        \n",
    "        if simple_calculator in (\"add\", \"subtract\", \"multiply\", \"divide\"):\n",
    "            num1 = float(input(\"Enter first number: \"))\n",
    "            num2 = float(input(\"Enter second number: \"))\n",
    "            \n",
    "            if simple_calculator == \"add\":\n",
    "                result = add(num1, num2)\n",
    "            elif simple_calculator == \"subtract\":\n",
    "                result = subtract(num1, num2)\n",
    "            elif simple_calculator == \"multiply\":\n",
    "                result = multiply(num1, num2)\n",
    "            elif simple_calculator == \"divide\":\n",
    "                result = divide(num1, num2)\n",
    "                \n",
    "            print(\"Result: \", result)\n",
    "        else:\n",
    "            print(\"Invalid input. Please enter a valid option.\")\n",
    "            \n",
    "    except ValueError:\n",
    "        print(\"Please enter a valid integer.\")\n",
    "    \n",
    "    except ZeroDivisionError:\n",
    "        print(\"Division by zero is not allowed.\")\n",
    "    "
   ]
  },
  {
   "cell_type": "code",
   "execution_count": 63,
   "id": "cff9080f",
   "metadata": {},
   "outputs": [
    {
     "name": "stdout",
     "output_type": "stream",
     "text": [
      "Options:\n",
      "Enter 'add' for addition\n",
      "Enter 'subtract' for subtraction\n",
      "Enter 'multiply' for multiplication\n",
      "Enter 'divide' for division\n",
      "Enter 'quit' to end the program\n",
      ": add\n",
      "Enter first number: 0\n",
      "Enter second number: 5\n",
      "Result:  5.0\n",
      "Options:\n",
      "Enter 'add' for addition\n",
      "Enter 'subtract' for subtraction\n",
      "Enter 'multiply' for multiplication\n",
      "Enter 'divide' for division\n",
      "Enter 'quit' to end the program\n",
      ": divide\n",
      "Enter first number: 6\n",
      "Enter second number: 0\n",
      "Error: Division by zero is not allowed.\n",
      "Options:\n",
      "Enter 'add' for addition\n",
      "Enter 'subtract' for subtraction\n",
      "Enter 'multiply' for multiplication\n",
      "Enter 'divide' for division\n",
      "Enter 'quit' to end the program\n",
      ": quit\n"
     ]
    }
   ],
   "source": [
    "def add(x, y):\n",
    "    return x + y\n",
    "\n",
    "def subtract(x, y):\n",
    "    return x - y\n",
    "\n",
    "def multiply(x, y):\n",
    "    return x * y\n",
    "\n",
    "def divide(x, y):\n",
    "    if y == 0:\n",
    "        raise ZeroDivisionError(\"Division by zero is not allowed.\")\n",
    "    return x / y\n",
    "\n",
    "while True:\n",
    "    try:\n",
    "        print(\"Options:\")\n",
    "        print(\"Enter 'add' for addition\")\n",
    "        print(\"Enter 'subtract' for subtraction\")\n",
    "        print(\"Enter 'multiply' for multiplication\")\n",
    "        print(\"Enter 'divide' for division\")\n",
    "        print(\"Enter 'quit' to end the program\")\n",
    "\n",
    "        user_input = input(\": \")\n",
    "\n",
    "        if user_input == \"quit\":\n",
    "            break\n",
    "\n",
    "        if user_input in (\"add\", \"subtract\", \"multiply\", \"divide\"):\n",
    "            num1 = float(input(\"Enter first number: \"))\n",
    "            num2 = float(input(\"Enter second number: \"))\n",
    "\n",
    "            if user_input == \"add\":\n",
    "                result = add(num1, num2)\n",
    "            elif user_input == \"subtract\":\n",
    "                result = subtract(num1, num2)\n",
    "            elif user_input == \"multiply\":\n",
    "                result = multiply(num1, num2)\n",
    "            elif user_input == \"divide\":\n",
    "                result = divide(num1, num2)\n",
    "\n",
    "            print(\"Result: \", result)\n",
    "        else:\n",
    "            print(\"Invalid input. Please enter a valid option.\")\n",
    "    \n",
    "    except ZeroDivisionError as e:\n",
    "        print(f\"Error: {e}\")\n",
    "    except ValueError:\n",
    "        print(\"Invalid input. Please enter valid numbers.\")"
   ]
  },
  {
   "cell_type": "code",
   "execution_count": null,
   "id": "c132e2d6",
   "metadata": {},
   "outputs": [],
   "source": []
  }
 ],
 "metadata": {
  "kernelspec": {
   "display_name": "Python 3 (ipykernel)",
   "language": "python",
   "name": "python3"
  },
  "language_info": {
   "codemirror_mode": {
    "name": "ipython",
    "version": 3
   },
   "file_extension": ".py",
   "mimetype": "text/x-python",
   "name": "python",
   "nbconvert_exporter": "python",
   "pygments_lexer": "ipython3",
   "version": "3.11.5"
  }
 },
 "nbformat": 4,
 "nbformat_minor": 5
}
